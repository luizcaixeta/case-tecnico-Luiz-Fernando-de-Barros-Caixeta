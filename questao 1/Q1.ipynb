{
 "cells": [
  {
   "cell_type": "code",
   "execution_count": 20,
   "id": "a93ae240",
   "metadata": {},
   "outputs": [],
   "source": [
    "import pandas as pd\n",
    "import seaborn as sns\n",
    "import matplotlib.pyplot as plt"
   ]
  },
  {
   "cell_type": "code",
   "execution_count": 3,
   "id": "f54da757",
   "metadata": {},
   "outputs": [],
   "source": [
    "df = pd.read_csv('Q1 tratados.csv')"
   ]
  },
  {
   "cell_type": "code",
   "execution_count": 4,
   "id": "f1428807",
   "metadata": {},
   "outputs": [
    {
     "data": {
      "text/html": [
       "<div>\n",
       "<style scoped>\n",
       "    .dataframe tbody tr th:only-of-type {\n",
       "        vertical-align: middle;\n",
       "    }\n",
       "\n",
       "    .dataframe tbody tr th {\n",
       "        vertical-align: top;\n",
       "    }\n",
       "\n",
       "    .dataframe thead th {\n",
       "        text-align: right;\n",
       "    }\n",
       "</style>\n",
       "<table border=\"1\" class=\"dataframe\">\n",
       "  <thead>\n",
       "    <tr style=\"text-align: right;\">\n",
       "      <th></th>\n",
       "      <th>Shopping</th>\n",
       "      <th>Métrica</th>\n",
       "      <th>Tipo</th>\n",
       "      <th>Semana</th>\n",
       "      <th>Previsto</th>\n",
       "      <th>Realizado</th>\n",
       "    </tr>\n",
       "  </thead>\n",
       "  <tbody>\n",
       "    <tr>\n",
       "      <th>0</th>\n",
       "      <td>Shopping 1</td>\n",
       "      <td>Criação</td>\n",
       "      <td>Loja</td>\n",
       "      <td>1</td>\n",
       "      <td>30</td>\n",
       "      <td>7</td>\n",
       "    </tr>\n",
       "    <tr>\n",
       "      <th>1</th>\n",
       "      <td>Shopping 1</td>\n",
       "      <td>Criação</td>\n",
       "      <td>Loja</td>\n",
       "      <td>2</td>\n",
       "      <td>32</td>\n",
       "      <td>19</td>\n",
       "    </tr>\n",
       "    <tr>\n",
       "      <th>2</th>\n",
       "      <td>Shopping 1</td>\n",
       "      <td>Criação</td>\n",
       "      <td>Loja</td>\n",
       "      <td>3</td>\n",
       "      <td>32</td>\n",
       "      <td>26</td>\n",
       "    </tr>\n",
       "    <tr>\n",
       "      <th>3</th>\n",
       "      <td>Shopping 1</td>\n",
       "      <td>Criação</td>\n",
       "      <td>Loja</td>\n",
       "      <td>4</td>\n",
       "      <td>32</td>\n",
       "      <td>28</td>\n",
       "    </tr>\n",
       "  </tbody>\n",
       "</table>\n",
       "</div>"
      ],
      "text/plain": [
       "    Shopping   Métrica  Tipo  Semana   Previsto  Realizado\n",
       "0  Shopping 1  Criação  Loja        1        30          7\n",
       "1  Shopping 1  Criação  Loja        2        32         19\n",
       "2  Shopping 1  Criação  Loja        3        32         26\n",
       "3  Shopping 1  Criação  Loja        4        32         28"
      ]
     },
     "execution_count": 4,
     "metadata": {},
     "output_type": "execute_result"
    }
   ],
   "source": [
    "df.head(4)"
   ]
  },
  {
   "cell_type": "code",
   "execution_count": 5,
   "id": "fd45da66",
   "metadata": {},
   "outputs": [
    {
     "name": "stdout",
     "output_type": "stream",
     "text": [
      "<class 'pandas.core.frame.DataFrame'>\n",
      "RangeIndex: 325 entries, 0 to 324\n",
      "Data columns (total 6 columns):\n",
      " #   Column     Non-Null Count  Dtype \n",
      "---  ------     --------------  ----- \n",
      " 0   Shopping   325 non-null    object\n",
      " 1   Métrica    325 non-null    object\n",
      " 2   Tipo       325 non-null    object\n",
      " 3   Semana     325 non-null    int64 \n",
      " 4   Previsto   325 non-null    int64 \n",
      " 5   Realizado  325 non-null    int64 \n",
      "dtypes: int64(3), object(3)\n",
      "memory usage: 15.4+ KB\n"
     ]
    }
   ],
   "source": [
    "df.info()"
   ]
  },
  {
   "cell_type": "code",
   "execution_count": 6,
   "id": "3029a2c0",
   "metadata": {},
   "outputs": [
    {
     "data": {
      "text/plain": [
       "Shopping     0\n",
       "Métrica      0\n",
       "Tipo         0\n",
       "Semana       0\n",
       "Previsto     0\n",
       "Realizado    0\n",
       "dtype: int64"
      ]
     },
     "execution_count": 6,
     "metadata": {},
     "output_type": "execute_result"
    }
   ],
   "source": [
    "df.isnull().sum()"
   ]
  },
  {
   "cell_type": "code",
   "execution_count": 7,
   "id": "d08d8b85",
   "metadata": {},
   "outputs": [
    {
     "data": {
      "text/html": [
       "<div>\n",
       "<style scoped>\n",
       "    .dataframe tbody tr th:only-of-type {\n",
       "        vertical-align: middle;\n",
       "    }\n",
       "\n",
       "    .dataframe tbody tr th {\n",
       "        vertical-align: top;\n",
       "    }\n",
       "\n",
       "    .dataframe thead th {\n",
       "        text-align: right;\n",
       "    }\n",
       "</style>\n",
       "<table border=\"1\" class=\"dataframe\">\n",
       "  <thead>\n",
       "    <tr style=\"text-align: right;\">\n",
       "      <th></th>\n",
       "      <th>Semana</th>\n",
       "      <th>Previsto</th>\n",
       "      <th>Realizado</th>\n",
       "    </tr>\n",
       "  </thead>\n",
       "  <tbody>\n",
       "    <tr>\n",
       "      <th>count</th>\n",
       "      <td>325.000000</td>\n",
       "      <td>325.000000</td>\n",
       "      <td>325.000000</td>\n",
       "    </tr>\n",
       "    <tr>\n",
       "      <th>mean</th>\n",
       "      <td>3.000000</td>\n",
       "      <td>11.187692</td>\n",
       "      <td>11.713846</td>\n",
       "    </tr>\n",
       "    <tr>\n",
       "      <th>std</th>\n",
       "      <td>1.416394</td>\n",
       "      <td>7.360545</td>\n",
       "      <td>11.154691</td>\n",
       "    </tr>\n",
       "    <tr>\n",
       "      <th>min</th>\n",
       "      <td>1.000000</td>\n",
       "      <td>3.000000</td>\n",
       "      <td>0.000000</td>\n",
       "    </tr>\n",
       "    <tr>\n",
       "      <th>25%</th>\n",
       "      <td>2.000000</td>\n",
       "      <td>5.000000</td>\n",
       "      <td>5.000000</td>\n",
       "    </tr>\n",
       "    <tr>\n",
       "      <th>50%</th>\n",
       "      <td>3.000000</td>\n",
       "      <td>9.000000</td>\n",
       "      <td>9.000000</td>\n",
       "    </tr>\n",
       "    <tr>\n",
       "      <th>75%</th>\n",
       "      <td>4.000000</td>\n",
       "      <td>14.000000</td>\n",
       "      <td>15.000000</td>\n",
       "    </tr>\n",
       "    <tr>\n",
       "      <th>max</th>\n",
       "      <td>5.000000</td>\n",
       "      <td>32.000000</td>\n",
       "      <td>112.000000</td>\n",
       "    </tr>\n",
       "  </tbody>\n",
       "</table>\n",
       "</div>"
      ],
      "text/plain": [
       "          Semana     Previsto   Realizado\n",
       "count  325.000000  325.000000  325.000000\n",
       "mean     3.000000   11.187692   11.713846\n",
       "std      1.416394    7.360545   11.154691\n",
       "min      1.000000    3.000000    0.000000\n",
       "25%      2.000000    5.000000    5.000000\n",
       "50%      3.000000    9.000000    9.000000\n",
       "75%      4.000000   14.000000   15.000000\n",
       "max      5.000000   32.000000  112.000000"
      ]
     },
     "execution_count": 7,
     "metadata": {},
     "output_type": "execute_result"
    }
   ],
   "source": [
    "df.describe()"
   ]
  },
  {
   "cell_type": "code",
   "execution_count": null,
   "id": "4fb1088f",
   "metadata": {},
   "outputs": [],
   "source": [
    "# Criando colunas auxiliares\n",
    "df['Desvio'] = df['Realizado'] - df['Previsto']\n",
    "df['% Desvio'] = (df['Desvio'] / df['Previsto']) * 100"
   ]
  },
  {
   "cell_type": "markdown",
   "id": "1397369c",
   "metadata": {},
   "source": [
    "# Desempenho geral da empresa"
   ]
  },
  {
   "cell_type": "code",
   "execution_count": 10,
   "id": "fb4e1e72",
   "metadata": {},
   "outputs": [],
   "source": [
    "metricas = df.groupby('Métrica')[['Previsto', 'Realizado']].sum()"
   ]
  },
  {
   "cell_type": "code",
   "execution_count": 11,
   "id": "4f80fbbd",
   "metadata": {},
   "outputs": [],
   "source": [
    "metricas['% Realizado'] = (metricas['Realizado'] / metricas['Previsto']) * 100"
   ]
  },
  {
   "cell_type": "code",
   "execution_count": 12,
   "id": "905f2ca8",
   "metadata": {},
   "outputs": [
    {
     "data": {
      "text/html": [
       "<div>\n",
       "<style scoped>\n",
       "    .dataframe tbody tr th:only-of-type {\n",
       "        vertical-align: middle;\n",
       "    }\n",
       "\n",
       "    .dataframe tbody tr th {\n",
       "        vertical-align: top;\n",
       "    }\n",
       "\n",
       "    .dataframe thead th {\n",
       "        text-align: right;\n",
       "    }\n",
       "</style>\n",
       "<table border=\"1\" class=\"dataframe\">\n",
       "  <thead>\n",
       "    <tr style=\"text-align: right;\">\n",
       "      <th></th>\n",
       "      <th>Previsto</th>\n",
       "      <th>Realizado</th>\n",
       "      <th>% Realizado</th>\n",
       "    </tr>\n",
       "    <tr>\n",
       "      <th>Métrica</th>\n",
       "      <th></th>\n",
       "      <th></th>\n",
       "      <th></th>\n",
       "    </tr>\n",
       "  </thead>\n",
       "  <tbody>\n",
       "    <tr>\n",
       "      <th>Passagem online direta</th>\n",
       "      <td>999</td>\n",
       "      <td>882</td>\n",
       "      <td>88.288288</td>\n",
       "    </tr>\n",
       "    <tr>\n",
       "      <th>Ganho do online</th>\n",
       "      <td>340</td>\n",
       "      <td>305</td>\n",
       "      <td>89.705882</td>\n",
       "    </tr>\n",
       "    <tr>\n",
       "      <th>Ganho de loja</th>\n",
       "      <td>340</td>\n",
       "      <td>347</td>\n",
       "      <td>102.058824</td>\n",
       "    </tr>\n",
       "    <tr>\n",
       "      <th>Criação</th>\n",
       "      <td>1319</td>\n",
       "      <td>1516</td>\n",
       "      <td>114.935557</td>\n",
       "    </tr>\n",
       "    <tr>\n",
       "      <th>Passagem Loja</th>\n",
       "      <td>638</td>\n",
       "      <td>757</td>\n",
       "      <td>118.652038</td>\n",
       "    </tr>\n",
       "  </tbody>\n",
       "</table>\n",
       "</div>"
      ],
      "text/plain": [
       "                        Previsto  Realizado  % Realizado\n",
       "Métrica                                                 \n",
       "Passagem online direta       999        882    88.288288\n",
       "Ganho do online              340        305    89.705882\n",
       "Ganho de loja                340        347   102.058824\n",
       "Criação                     1319       1516   114.935557\n",
       "Passagem Loja                638        757   118.652038"
      ]
     },
     "execution_count": 12,
     "metadata": {},
     "output_type": "execute_result"
    }
   ],
   "source": [
    "metricas.sort_values('% Realizado')"
   ]
  },
  {
   "cell_type": "markdown",
   "id": "73e210bf",
   "metadata": {},
   "source": [
    "# Comparação por Shopping"
   ]
  },
  {
   "cell_type": "code",
   "execution_count": 14,
   "id": "6c10e2c9",
   "metadata": {},
   "outputs": [],
   "source": [
    "shoppings = df.groupby('Shopping ')[['Previsto', 'Realizado']].sum()\n",
    "shoppings['% Realizado'] = (shoppings['Realizado'] / shoppings['Previsto']) * 100"
   ]
  },
  {
   "cell_type": "code",
   "execution_count": 15,
   "id": "064a435a",
   "metadata": {},
   "outputs": [
    {
     "data": {
      "text/html": [
       "<div>\n",
       "<style scoped>\n",
       "    .dataframe tbody tr th:only-of-type {\n",
       "        vertical-align: middle;\n",
       "    }\n",
       "\n",
       "    .dataframe tbody tr th {\n",
       "        vertical-align: top;\n",
       "    }\n",
       "\n",
       "    .dataframe thead th {\n",
       "        text-align: right;\n",
       "    }\n",
       "</style>\n",
       "<table border=\"1\" class=\"dataframe\">\n",
       "  <thead>\n",
       "    <tr style=\"text-align: right;\">\n",
       "      <th></th>\n",
       "      <th>Previsto</th>\n",
       "      <th>Realizado</th>\n",
       "      <th>% Realizado</th>\n",
       "    </tr>\n",
       "    <tr>\n",
       "      <th>Shopping</th>\n",
       "      <th></th>\n",
       "      <th></th>\n",
       "      <th></th>\n",
       "    </tr>\n",
       "  </thead>\n",
       "  <tbody>\n",
       "    <tr>\n",
       "      <th>Shopping 1</th>\n",
       "      <td>354</td>\n",
       "      <td>268</td>\n",
       "      <td>75.706215</td>\n",
       "    </tr>\n",
       "    <tr>\n",
       "      <th>Shopping 6</th>\n",
       "      <td>314</td>\n",
       "      <td>263</td>\n",
       "      <td>83.757962</td>\n",
       "    </tr>\n",
       "    <tr>\n",
       "      <th>Shopping 2</th>\n",
       "      <td>354</td>\n",
       "      <td>337</td>\n",
       "      <td>95.197740</td>\n",
       "    </tr>\n",
       "    <tr>\n",
       "      <th>Shopping 7</th>\n",
       "      <td>266</td>\n",
       "      <td>256</td>\n",
       "      <td>96.240602</td>\n",
       "    </tr>\n",
       "    <tr>\n",
       "      <th>Shopping 9</th>\n",
       "      <td>220</td>\n",
       "      <td>212</td>\n",
       "      <td>96.363636</td>\n",
       "    </tr>\n",
       "    <tr>\n",
       "      <th>Shopping 12</th>\n",
       "      <td>212</td>\n",
       "      <td>210</td>\n",
       "      <td>99.056604</td>\n",
       "    </tr>\n",
       "    <tr>\n",
       "      <th>Shopping 13</th>\n",
       "      <td>212</td>\n",
       "      <td>211</td>\n",
       "      <td>99.528302</td>\n",
       "    </tr>\n",
       "    <tr>\n",
       "      <th>Shopping 3</th>\n",
       "      <td>354</td>\n",
       "      <td>358</td>\n",
       "      <td>101.129944</td>\n",
       "    </tr>\n",
       "    <tr>\n",
       "      <th>Shopping 10</th>\n",
       "      <td>212</td>\n",
       "      <td>222</td>\n",
       "      <td>104.716981</td>\n",
       "    </tr>\n",
       "    <tr>\n",
       "      <th>Shopping 5</th>\n",
       "      <td>353</td>\n",
       "      <td>378</td>\n",
       "      <td>107.082153</td>\n",
       "    </tr>\n",
       "    <tr>\n",
       "      <th>Shopping 8</th>\n",
       "      <td>220</td>\n",
       "      <td>242</td>\n",
       "      <td>110.000000</td>\n",
       "    </tr>\n",
       "    <tr>\n",
       "      <th>Shopping 11</th>\n",
       "      <td>212</td>\n",
       "      <td>309</td>\n",
       "      <td>145.754717</td>\n",
       "    </tr>\n",
       "    <tr>\n",
       "      <th>Shopping 4</th>\n",
       "      <td>353</td>\n",
       "      <td>541</td>\n",
       "      <td>153.257790</td>\n",
       "    </tr>\n",
       "  </tbody>\n",
       "</table>\n",
       "</div>"
      ],
      "text/plain": [
       "             Previsto  Realizado  % Realizado\n",
       "Shopping                                     \n",
       "Shopping 1        354        268    75.706215\n",
       "Shopping 6        314        263    83.757962\n",
       "Shopping 2        354        337    95.197740\n",
       "Shopping 7        266        256    96.240602\n",
       "Shopping 9        220        212    96.363636\n",
       "Shopping 12       212        210    99.056604\n",
       "Shopping 13       212        211    99.528302\n",
       "Shopping 3        354        358   101.129944\n",
       "Shopping 10       212        222   104.716981\n",
       "Shopping 5        353        378   107.082153\n",
       "Shopping 8        220        242   110.000000\n",
       "Shopping 11       212        309   145.754717\n",
       "Shopping 4        353        541   153.257790"
      ]
     },
     "execution_count": 15,
     "metadata": {},
     "output_type": "execute_result"
    }
   ],
   "source": [
    "shoppings.sort_values('% Realizado')"
   ]
  },
  {
   "cell_type": "markdown",
   "id": "c1b6d5f4",
   "metadata": {},
   "source": [
    "# Loja vs Online"
   ]
  },
  {
   "cell_type": "code",
   "execution_count": 16,
   "id": "67cd221f",
   "metadata": {},
   "outputs": [],
   "source": [
    "tipo = df.groupby('Tipo')[['Previsto', 'Realizado']].sum()\n",
    "tipo['% Realizado'] = (tipo['Realizado'] / tipo['Previsto']) * 100"
   ]
  },
  {
   "cell_type": "code",
   "execution_count": 17,
   "id": "119f728c",
   "metadata": {},
   "outputs": [
    {
     "data": {
      "text/html": [
       "<div>\n",
       "<style scoped>\n",
       "    .dataframe tbody tr th:only-of-type {\n",
       "        vertical-align: middle;\n",
       "    }\n",
       "\n",
       "    .dataframe tbody tr th {\n",
       "        vertical-align: top;\n",
       "    }\n",
       "\n",
       "    .dataframe thead th {\n",
       "        text-align: right;\n",
       "    }\n",
       "</style>\n",
       "<table border=\"1\" class=\"dataframe\">\n",
       "  <thead>\n",
       "    <tr style=\"text-align: right;\">\n",
       "      <th></th>\n",
       "      <th>Previsto</th>\n",
       "      <th>Realizado</th>\n",
       "      <th>% Realizado</th>\n",
       "    </tr>\n",
       "    <tr>\n",
       "      <th>Tipo</th>\n",
       "      <th></th>\n",
       "      <th></th>\n",
       "      <th></th>\n",
       "    </tr>\n",
       "  </thead>\n",
       "  <tbody>\n",
       "    <tr>\n",
       "      <th>Loja</th>\n",
       "      <td>2297</td>\n",
       "      <td>2620</td>\n",
       "      <td>114.061820</td>\n",
       "    </tr>\n",
       "    <tr>\n",
       "      <th>Online</th>\n",
       "      <td>1339</td>\n",
       "      <td>1187</td>\n",
       "      <td>88.648245</td>\n",
       "    </tr>\n",
       "  </tbody>\n",
       "</table>\n",
       "</div>"
      ],
      "text/plain": [
       "        Previsto  Realizado  % Realizado\n",
       "Tipo                                    \n",
       "Loja        2297       2620   114.061820\n",
       "Online      1339       1187    88.648245"
      ]
     },
     "execution_count": 17,
     "metadata": {},
     "output_type": "execute_result"
    }
   ],
   "source": [
    "tipo"
   ]
  },
  {
   "cell_type": "markdown",
   "id": "bc210d4f",
   "metadata": {},
   "source": [
    "# Tendência semanal"
   ]
  },
  {
   "cell_type": "code",
   "execution_count": 19,
   "id": "9761c9ee",
   "metadata": {},
   "outputs": [],
   "source": [
    "semanal = df.groupby(['Semana ', 'Tipo'])[['Previsto', 'Realizado']].sum().reset_index()"
   ]
  },
  {
   "cell_type": "code",
   "execution_count": 22,
   "id": "39fdbe87",
   "metadata": {},
   "outputs": [
    {
     "data": {
      "image/png": "[encoded data removed]",
      "text/plain": [
       "<Figure size 1000x600 with 1 Axes>"
      ]
     },
     "metadata": {},
     "output_type": "display_data"
    }
   ],
   "source": [
    "plt.figure(figsize=(10, 6))\n",
    "sns.lineplot(data=semanal, x='Semana ', y='Realizado', hue='Tipo', marker='o')\n",
    "sns.lineplot(data=semanal, x='Semana ', y='Previsto', hue='Tipo', linestyle='--')\n",
    "plt.title('Evolução semanal - Previsto vs Realizado por Tipo')\n",
    "plt.grid(True)\n",
    "plt.show()"
   ]
  },
  {
   "cell_type": "code",
   "execution_count": 24,
   "id": "6cf111ef",
   "metadata": {},
   "outputs": [
    {
     "name": "stdout",
     "output_type": "stream",
     "text": [
      "Maiores desvios negativos:\n",
      "     Shopping                  Métrica    Tipo  Semana     % Desvio\n",
      "88  Shopping 4  Passagem online direta  Online        4 -100.000000\n",
      "89  Shopping 4  Passagem online direta  Online        5 -100.000000\n",
      "95  Shopping 4         Ganho do online  Online        1 -100.000000\n",
      "97  Shopping 4         Ganho do online  Online        3 -100.000000\n",
      "98  Shopping 4         Ganho do online  Online        4 -100.000000\n",
      "22  Shopping 1         Ganho do online  Online        3 -100.000000\n",
      "87  Shopping 4  Passagem online direta  Online        3  -95.238095\n",
      "85  Shopping 4  Passagem online direta  Online        1  -94.444444\n",
      "46  Shopping 2         Ganho do online  Online        2  -85.714286\n",
      "41  Shopping 2           Ganho de loja    Loja        2  -85.714286\n",
      "\n",
      "Maiores desvios positivos:\n",
      "       Shopping         Métrica  Tipo  Semana     % Desvio\n",
      "84    Shopping 4  Passagem Loja  Loja        5  400.000000\n",
      "82    Shopping 4  Passagem Loja  Loja        3  346.153846\n",
      "75    Shopping 4        Criação  Loja        1  273.333333\n",
      "252  Shopping 11        Criação  Loja        3  264.285714\n",
      "259  Shopping 11  Passagem Loja  Loja        5  240.000000\n",
      "81    Shopping 4  Passagem Loja  Loja        2  238.461538\n",
      "92    Shopping 4  Ganho de loja  Loja        3  228.571429\n",
      "269  Shopping 11  Ganho de loja  Loja        5  200.000000\n",
      "91    Shopping 4  Ganho de loja  Loja        2  157.142857\n",
      "253  Shopping 11        Criação  Loja        4  157.142857\n"
     ]
    }
   ],
   "source": [
    "top_neg = df.sort_values('% Desvio').head(10)\n",
    "top_pos = df.sort_values('% Desvio', ascending=False).head(10)\n",
    "\n",
    "print(\"Maiores desvios negativos:\")\n",
    "print(top_neg[['Shopping ', 'Métrica', 'Tipo', 'Semana ', '% Desvio']])\n",
    "\n",
    "print(\"\\nMaiores desvios positivos:\")\n",
    "print(top_pos[['Shopping ', 'Métrica', 'Tipo', 'Semana ', '% Desvio']])\n"
   ]
  },
  {
   "cell_type": "code",
   "execution_count": 28,
   "id": "d40917b6",
   "metadata": {},
   "outputs": [],
   "source": [
    "df.to_csv('Q1 tratados PY.csv', index = False)"
   ]
  }
 ],
 "metadata": {
  "kernelspec": {
   "display_name": "Python 3",
   "language": "python",
   "name": "python3"
  },
  "language_info": {
   "codemirror_mode": {
    "name": "ipython",
    "version": 3
   },
   "file_extension": ".py",
   "mimetype": "text/x-python",
   "name": "python",
   "nbconvert_exporter": "python",
   "pygments_lexer": "ipython3",
   "version": "3.10.0"
  }
 },
 "nbformat": 4,
 "nbformat_minor": 5
}
