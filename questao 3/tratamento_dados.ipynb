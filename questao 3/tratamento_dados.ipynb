{
 "cells": [
  {
   "cell_type": "markdown",
   "id": "aeeb48ab",
   "metadata": {},
   "source": [
    "# Iniciando a limpeza dos dados "
   ]
  },
  {
   "cell_type": "code",
   "execution_count": 1,
   "id": "b7510958",
   "metadata": {},
   "outputs": [],
   "source": [
    "import pandas as pd\n",
    "import numpy as np\n",
    "import unicodedata"
   ]
  },
  {
   "cell_type": "code",
   "execution_count": 2,
   "id": "e8cf1de9",
   "metadata": {},
   "outputs": [],
   "source": [
    "# Carregando a tabela dos os dados \n",
    "df = pd.read_excel(\"Dados fictícios - case análise de dados .xlsx\", sheet_name = \"deals list\")"
   ]
  },
  {
   "cell_type": "code",
   "execution_count": 3,
   "id": "b0ea5333",
   "metadata": {},
   "outputs": [
    {
     "data": {
      "text/plain": [
       "Código do usuário       int64\n",
       "Criador                object\n",
       "Data recebido          object\n",
       "Data de perda          object\n",
       "Data de ganho          object\n",
       "Tipo de venda          object\n",
       "Passagem               object\n",
       "Canal de Aquisição     object\n",
       "Docs italiano          object\n",
       "Parente Italiano       object\n",
       "dtype: object"
      ]
     },
     "execution_count": 3,
     "metadata": {},
     "output_type": "execute_result"
    }
   ],
   "source": [
    "# Conhecendo o tipo de cada coluna para ver se estão em formato adequado \n",
    "df.dtypes"
   ]
  },
  {
   "cell_type": "code",
   "execution_count": 5,
   "id": "552a36df",
   "metadata": {},
   "outputs": [],
   "source": [
    "# Modificando o tipo dos elementos que estão incorretos\n",
    "df['Data recebido'] = pd.to_datetime(df['Data recebido'])\n",
    "df['Data de ganho'] = pd.to_datetime(df['Data de ganho'])\n",
    "df['Data de perda'] = pd.to_datetime(df['Data de perda'])"
   ]
  },
  {
   "cell_type": "code",
   "execution_count": 6,
   "id": "c11748b8",
   "metadata": {},
   "outputs": [
    {
     "data": {
      "text/plain": [
       "Código do usuário               int64\n",
       "Criador                        object\n",
       "Data recebido          datetime64[ns]\n",
       "Data de perda          datetime64[ns]\n",
       "Data de ganho          datetime64[ns]\n",
       "Tipo de venda                  object\n",
       "Passagem                       object\n",
       "Canal de Aquisição             object\n",
       "Docs italiano                  object\n",
       "Parente Italiano               object\n",
       "dtype: object"
      ]
     },
     "execution_count": 6,
     "metadata": {},
     "output_type": "execute_result"
    }
   ],
   "source": [
    "df.dtypes"
   ]
  },
  {
   "cell_type": "code",
   "execution_count": 7,
   "id": "3b5d00a7",
   "metadata": {},
   "outputs": [
    {
     "name": "stdout",
     "output_type": "stream",
     "text": [
      "<class 'pandas.core.frame.DataFrame'>\n",
      "RangeIndex: 34288 entries, 0 to 34287\n",
      "Data columns (total 10 columns):\n",
      " #   Column               Non-Null Count  Dtype         \n",
      "---  ------               --------------  -----         \n",
      " 0   Código do usuário    34288 non-null  int64         \n",
      " 1   Criador              34288 non-null  object        \n",
      " 2   Data recebido        34288 non-null  datetime64[ns]\n",
      " 3   Data de perda        30524 non-null  datetime64[ns]\n",
      " 4   Data de ganho        933 non-null    datetime64[ns]\n",
      " 5   Tipo de venda        33975 non-null  object        \n",
      " 6   Passagem             6163 non-null   object        \n",
      " 7   Canal de Aquisição   29630 non-null  object        \n",
      " 8   Docs italiano        29498 non-null  object        \n",
      " 9   Parente Italiano     325 non-null    object        \n",
      "dtypes: datetime64[ns](3), int64(1), object(6)\n",
      "memory usage: 2.6+ MB\n"
     ]
    }
   ],
   "source": [
    "df.info()"
   ]
  },
  {
   "cell_type": "code",
   "execution_count": 8,
   "id": "23436fe3",
   "metadata": {},
   "outputs": [
    {
     "data": {
      "text/plain": [
       "Código do usuário          0\n",
       "Criador                    0\n",
       "Data recebido              0\n",
       "Data de perda           3764\n",
       "Data de ganho          33355\n",
       "Tipo de venda            313\n",
       "Passagem               28125\n",
       "Canal de Aquisição      4658\n",
       "Docs italiano           4790\n",
       "Parente Italiano       33963\n",
       "dtype: int64"
      ]
     },
     "execution_count": 8,
     "metadata": {},
     "output_type": "execute_result"
    }
   ],
   "source": [
    "df.isnull().sum()"
   ]
  },
  {
   "cell_type": "code",
   "execution_count": 9,
   "id": "e5873bb0",
   "metadata": {},
   "outputs": [],
   "source": [
    "# Padronizando o nome das colunas para faciliar o acesso\n",
    "df.columns = (\n",
    "    df.columns.str.lower()\n",
    "              .str.strip()\n",
    "              .str.replace(\" \", \"_\")\n",
    "              .str.normalize(\"NFKD\")\n",
    "              .str.encode(\"ascii\", errors=\"ignore\")\n",
    "              .str.decode(\"utf-8\")\n",
    ")"
   ]
  },
  {
   "cell_type": "code",
   "execution_count": 10,
   "id": "57bd30ef",
   "metadata": {},
   "outputs": [
    {
     "data": {
      "text/plain": [
       "['codigo_do_usuario',\n",
       " 'criador',\n",
       " 'data_recebido',\n",
       " 'data_de_perda',\n",
       " 'data_de_ganho',\n",
       " 'tipo_de_venda',\n",
       " 'passagem',\n",
       " 'canal_de_aquisicao',\n",
       " 'docs_italiano',\n",
       " 'parente_italiano']"
      ]
     },
     "execution_count": 10,
     "metadata": {},
     "output_type": "execute_result"
    }
   ],
   "source": [
    "df.columns.tolist()"
   ]
  },
  {
   "cell_type": "code",
   "execution_count": 11,
   "id": "c83052db",
   "metadata": {},
   "outputs": [
    {
     "data": {
      "text/html": [
       "<div>\n",
       "<style scoped>\n",
       "    .dataframe tbody tr th:only-of-type {\n",
       "        vertical-align: middle;\n",
       "    }\n",
       "\n",
       "    .dataframe tbody tr th {\n",
       "        vertical-align: top;\n",
       "    }\n",
       "\n",
       "    .dataframe thead th {\n",
       "        text-align: right;\n",
       "    }\n",
       "</style>\n",
       "<table border=\"1\" class=\"dataframe\">\n",
       "  <thead>\n",
       "    <tr style=\"text-align: right;\">\n",
       "      <th></th>\n",
       "      <th>codigo_do_usuario</th>\n",
       "      <th>criador</th>\n",
       "      <th>data_recebido</th>\n",
       "      <th>data_de_perda</th>\n",
       "      <th>data_de_ganho</th>\n",
       "      <th>tipo_de_venda</th>\n",
       "      <th>passagem</th>\n",
       "      <th>canal_de_aquisicao</th>\n",
       "      <th>docs_italiano</th>\n",
       "      <th>parente_italiano</th>\n",
       "    </tr>\n",
       "  </thead>\n",
       "  <tbody>\n",
       "    <tr>\n",
       "      <th>0</th>\n",
       "      <td>1</td>\n",
       "      <td>Automação</td>\n",
       "      <td>2023-01-03</td>\n",
       "      <td>2023-01-09 09:12:37</td>\n",
       "      <td>NaT</td>\n",
       "      <td>Retorno</td>\n",
       "      <td>NaN</td>\n",
       "      <td>Redes sociais</td>\n",
       "      <td>Nenhum e não sei por onde começar</td>\n",
       "      <td>NaN</td>\n",
       "    </tr>\n",
       "    <tr>\n",
       "      <th>1</th>\n",
       "      <td>2</td>\n",
       "      <td>Automação</td>\n",
       "      <td>2023-01-17</td>\n",
       "      <td>2023-03-14 10:37:43</td>\n",
       "      <td>NaT</td>\n",
       "      <td>1venda - site</td>\n",
       "      <td>NaN</td>\n",
       "      <td>Indicação</td>\n",
       "      <td>Nenhum e não sei por onde começar</td>\n",
       "      <td>NaN</td>\n",
       "    </tr>\n",
       "    <tr>\n",
       "      <th>2</th>\n",
       "      <td>3</td>\n",
       "      <td>Vendedor loja</td>\n",
       "      <td>2023-11-11</td>\n",
       "      <td>2023-11-28 07:59:44</td>\n",
       "      <td>NaT</td>\n",
       "      <td>Retorno</td>\n",
       "      <td>NaN</td>\n",
       "      <td>Remarketing</td>\n",
       "      <td>NaN</td>\n",
       "      <td>NaN</td>\n",
       "    </tr>\n",
       "    <tr>\n",
       "      <th>3</th>\n",
       "      <td>4</td>\n",
       "      <td>Automação</td>\n",
       "      <td>2023-03-07</td>\n",
       "      <td>2023-03-09 15:22:03</td>\n",
       "      <td>NaT</td>\n",
       "      <td>1venda - site</td>\n",
       "      <td>NaN</td>\n",
       "      <td>Indicação</td>\n",
       "      <td>Nenhum e não sei por onde começar</td>\n",
       "      <td>NaN</td>\n",
       "    </tr>\n",
       "  </tbody>\n",
       "</table>\n",
       "</div>"
      ],
      "text/plain": [
       "   codigo_do_usuario        criador data_recebido       data_de_perda  \\\n",
       "0                  1      Automação    2023-01-03 2023-01-09 09:12:37   \n",
       "1                  2      Automação    2023-01-17 2023-03-14 10:37:43   \n",
       "2                  3  Vendedor loja    2023-11-11 2023-11-28 07:59:44   \n",
       "3                  4      Automação    2023-03-07 2023-03-09 15:22:03   \n",
       "\n",
       "  data_de_ganho  tipo_de_venda passagem canal_de_aquisicao  \\\n",
       "0           NaT        Retorno      NaN      Redes sociais   \n",
       "1           NaT  1venda - site      NaN          Indicação   \n",
       "2           NaT        Retorno      NaN        Remarketing   \n",
       "3           NaT  1venda - site      NaN          Indicação   \n",
       "\n",
       "                       docs_italiano parente_italiano  \n",
       "0  Nenhum e não sei por onde começar              NaN  \n",
       "1  Nenhum e não sei por onde começar              NaN  \n",
       "2                                NaN              NaN  \n",
       "3  Nenhum e não sei por onde começar              NaN  "
      ]
     },
     "execution_count": 11,
     "metadata": {},
     "output_type": "execute_result"
    }
   ],
   "source": [
    "# Prévia da base de dados \n",
    "df.head(4)"
   ]
  },
  {
   "cell_type": "markdown",
   "id": "fc58e21c",
   "metadata": {},
   "source": [
    "## Tratamento dos valores das colunas"
   ]
  },
  {
   "cell_type": "code",
   "execution_count": 12,
   "id": "cf67d7f1",
   "metadata": {},
   "outputs": [],
   "source": [
    "# Função padronizar os valores das colunas para evitar que o mesmo valor seja enquadrado em uma categoria diferente\n",
    "def normalizar(texto):\n",
    "    if pd.isna(texto):\n",
    "        return texto\n",
    "    texto = unicodedata.normalize('NFKD', texto).encode('ASCII', 'ignore').decode('utf-8')\n",
    "    return texto.strip().lower()"
   ]
  },
  {
   "cell_type": "code",
   "execution_count": 13,
   "id": "0e794c79",
   "metadata": {},
   "outputs": [],
   "source": [
    "# Aplicando a função de normalização\n",
    "df['criador'] = df['criador'].apply(normalizar)\n",
    "df['tipo_de_venda'] = df['tipo_de_venda'].apply(normalizar)\n",
    "df['canal_de_aquisicao'] = df['canal_de_aquisicao'].apply(normalizar)\n",
    "df['docs_italiano'] = df['docs_italiano'].apply(normalizar)\n",
    "df['parente_italiano'] = df['parente_italiano'].apply(normalizar)"
   ]
  },
  {
   "cell_type": "code",
   "execution_count": 14,
   "id": "4afe51c9",
   "metadata": {},
   "outputs": [],
   "source": [
    "# Preenche os campos vazios em \"passagem\" com \"Não\"\n",
    "df['passagem'] = df['passagem'].replace(['', 'NaN', 'nan'], pd.NA)\n",
    "\n",
    "# Preencher com \"nao\"\n",
    "df['passagem'] = df['passagem'].fillna('nao')"
   ]
  },
  {
   "cell_type": "code",
   "execution_count": 15,
   "id": "b67a914d",
   "metadata": {},
   "outputs": [],
   "source": [
    "# Preenche os campos vazios em \"parente_italiano\"\n",
    "df['parente_italiano'] = df['parente_italiano'].replace(['', 'NaN', 'nan'], pd.NA)\n",
    "\n",
    "# Preenche com \"nao informado\"\n",
    "df['parente_italiano'] = df['parente_italiano'].fillna('nao informado')"
   ]
  },
  {
   "cell_type": "code",
   "execution_count": 16,
   "id": "5ac29d6f",
   "metadata": {},
   "outputs": [
    {
     "data": {
      "text/html": [
       "<div>\n",
       "<style scoped>\n",
       "    .dataframe tbody tr th:only-of-type {\n",
       "        vertical-align: middle;\n",
       "    }\n",
       "\n",
       "    .dataframe tbody tr th {\n",
       "        vertical-align: top;\n",
       "    }\n",
       "\n",
       "    .dataframe thead th {\n",
       "        text-align: right;\n",
       "    }\n",
       "</style>\n",
       "<table border=\"1\" class=\"dataframe\">\n",
       "  <thead>\n",
       "    <tr style=\"text-align: right;\">\n",
       "      <th></th>\n",
       "      <th>codigo_do_usuario</th>\n",
       "      <th>criador</th>\n",
       "      <th>data_recebido</th>\n",
       "      <th>data_de_perda</th>\n",
       "      <th>data_de_ganho</th>\n",
       "      <th>tipo_de_venda</th>\n",
       "      <th>passagem</th>\n",
       "      <th>canal_de_aquisicao</th>\n",
       "      <th>docs_italiano</th>\n",
       "      <th>parente_italiano</th>\n",
       "    </tr>\n",
       "  </thead>\n",
       "  <tbody>\n",
       "    <tr>\n",
       "      <th>0</th>\n",
       "      <td>1</td>\n",
       "      <td>automacao</td>\n",
       "      <td>2023-01-03</td>\n",
       "      <td>2023-01-09 09:12:37</td>\n",
       "      <td>NaT</td>\n",
       "      <td>retorno</td>\n",
       "      <td>nao</td>\n",
       "      <td>redes sociais</td>\n",
       "      <td>nenhum e nao sei por onde comecar</td>\n",
       "      <td>nao informado</td>\n",
       "    </tr>\n",
       "    <tr>\n",
       "      <th>1</th>\n",
       "      <td>2</td>\n",
       "      <td>automacao</td>\n",
       "      <td>2023-01-17</td>\n",
       "      <td>2023-03-14 10:37:43</td>\n",
       "      <td>NaT</td>\n",
       "      <td>1venda - site</td>\n",
       "      <td>nao</td>\n",
       "      <td>indicacao</td>\n",
       "      <td>nenhum e nao sei por onde comecar</td>\n",
       "      <td>nao informado</td>\n",
       "    </tr>\n",
       "    <tr>\n",
       "      <th>2</th>\n",
       "      <td>3</td>\n",
       "      <td>vendedor loja</td>\n",
       "      <td>2023-11-11</td>\n",
       "      <td>2023-11-28 07:59:44</td>\n",
       "      <td>NaT</td>\n",
       "      <td>retorno</td>\n",
       "      <td>nao</td>\n",
       "      <td>remarketing</td>\n",
       "      <td>NaN</td>\n",
       "      <td>nao informado</td>\n",
       "    </tr>\n",
       "    <tr>\n",
       "      <th>3</th>\n",
       "      <td>4</td>\n",
       "      <td>automacao</td>\n",
       "      <td>2023-03-07</td>\n",
       "      <td>2023-03-09 15:22:03</td>\n",
       "      <td>NaT</td>\n",
       "      <td>1venda - site</td>\n",
       "      <td>nao</td>\n",
       "      <td>indicacao</td>\n",
       "      <td>nenhum e nao sei por onde comecar</td>\n",
       "      <td>nao informado</td>\n",
       "    </tr>\n",
       "  </tbody>\n",
       "</table>\n",
       "</div>"
      ],
      "text/plain": [
       "   codigo_do_usuario        criador data_recebido       data_de_perda  \\\n",
       "0                  1      automacao    2023-01-03 2023-01-09 09:12:37   \n",
       "1                  2      automacao    2023-01-17 2023-03-14 10:37:43   \n",
       "2                  3  vendedor loja    2023-11-11 2023-11-28 07:59:44   \n",
       "3                  4      automacao    2023-03-07 2023-03-09 15:22:03   \n",
       "\n",
       "  data_de_ganho  tipo_de_venda passagem canal_de_aquisicao  \\\n",
       "0           NaT        retorno      nao      redes sociais   \n",
       "1           NaT  1venda - site      nao          indicacao   \n",
       "2           NaT        retorno      nao        remarketing   \n",
       "3           NaT  1venda - site      nao          indicacao   \n",
       "\n",
       "                       docs_italiano parente_italiano  \n",
       "0  nenhum e nao sei por onde comecar    nao informado  \n",
       "1  nenhum e nao sei por onde comecar    nao informado  \n",
       "2                                NaN    nao informado  \n",
       "3  nenhum e nao sei por onde comecar    nao informado  "
      ]
     },
     "execution_count": 16,
     "metadata": {},
     "output_type": "execute_result"
    }
   ],
   "source": [
    "df.head(4)"
   ]
  },
  {
   "cell_type": "code",
   "execution_count": 17,
   "id": "f363a807",
   "metadata": {},
   "outputs": [],
   "source": [
    "# Remove a hora em data_de_perda e data_de_ganho mantendo apenas a data (como datetime.date)\n",
    "df[\"data_de_perda\"] = pd.to_datetime(df[\"data_de_perda\"]).dt.date\n",
    "df[\"data_de_ganho\"] = pd.to_datetime(df[\"data_de_ganho\"]).dt.date"
   ]
  },
  {
   "cell_type": "markdown",
   "id": "9cd45ab9",
   "metadata": {},
   "source": [
    "Avaliando a qualidade dos dados dados: existem data_de_perda e data_de_ganho com datas anteriores a data_recebido?"
   ]
  },
  {
   "cell_type": "code",
   "execution_count": 18,
   "id": "7f54932e",
   "metadata": {},
   "outputs": [
    {
     "name": "stdout",
     "output_type": "stream",
     "text": [
      "Total de anomalias encontradas: 661\n"
     ]
    },
    {
     "data": {
      "text/html": [
       "<div>\n",
       "<style scoped>\n",
       "    .dataframe tbody tr th:only-of-type {\n",
       "        vertical-align: middle;\n",
       "    }\n",
       "\n",
       "    .dataframe tbody tr th {\n",
       "        vertical-align: top;\n",
       "    }\n",
       "\n",
       "    .dataframe thead th {\n",
       "        text-align: right;\n",
       "    }\n",
       "</style>\n",
       "<table border=\"1\" class=\"dataframe\">\n",
       "  <thead>\n",
       "    <tr style=\"text-align: right;\">\n",
       "      <th></th>\n",
       "      <th>data_recebido</th>\n",
       "      <th>data_de_ganho</th>\n",
       "      <th>data_de_perda</th>\n",
       "    </tr>\n",
       "  </thead>\n",
       "  <tbody>\n",
       "    <tr>\n",
       "      <th>318</th>\n",
       "      <td>2023-08-02</td>\n",
       "      <td>2022-08-02</td>\n",
       "      <td>NaT</td>\n",
       "    </tr>\n",
       "    <tr>\n",
       "      <th>379</th>\n",
       "      <td>2023-03-08</td>\n",
       "      <td>2022-09-21</td>\n",
       "      <td>NaT</td>\n",
       "    </tr>\n",
       "    <tr>\n",
       "      <th>537</th>\n",
       "      <td>2023-03-10</td>\n",
       "      <td>2022-10-21</td>\n",
       "      <td>NaT</td>\n",
       "    </tr>\n",
       "    <tr>\n",
       "      <th>539</th>\n",
       "      <td>2023-03-13</td>\n",
       "      <td>2022-11-29</td>\n",
       "      <td>NaT</td>\n",
       "    </tr>\n",
       "    <tr>\n",
       "      <th>578</th>\n",
       "      <td>2023-03-13</td>\n",
       "      <td>2022-11-29</td>\n",
       "      <td>NaT</td>\n",
       "    </tr>\n",
       "    <tr>\n",
       "      <th>...</th>\n",
       "      <td>...</td>\n",
       "      <td>...</td>\n",
       "      <td>...</td>\n",
       "    </tr>\n",
       "    <tr>\n",
       "      <th>34021</th>\n",
       "      <td>2023-12-28</td>\n",
       "      <td>NaT</td>\n",
       "      <td>2023-12-27</td>\n",
       "    </tr>\n",
       "    <tr>\n",
       "      <th>34025</th>\n",
       "      <td>2023-12-28</td>\n",
       "      <td>NaT</td>\n",
       "      <td>2023-12-27</td>\n",
       "    </tr>\n",
       "    <tr>\n",
       "      <th>34030</th>\n",
       "      <td>2023-12-28</td>\n",
       "      <td>NaT</td>\n",
       "      <td>2023-12-27</td>\n",
       "    </tr>\n",
       "    <tr>\n",
       "      <th>34031</th>\n",
       "      <td>2023-12-28</td>\n",
       "      <td>NaT</td>\n",
       "      <td>2023-12-27</td>\n",
       "    </tr>\n",
       "    <tr>\n",
       "      <th>34032</th>\n",
       "      <td>2023-12-28</td>\n",
       "      <td>NaT</td>\n",
       "      <td>2023-12-27</td>\n",
       "    </tr>\n",
       "  </tbody>\n",
       "</table>\n",
       "<p>661 rows × 3 columns</p>\n",
       "</div>"
      ],
      "text/plain": [
       "      data_recebido data_de_ganho data_de_perda\n",
       "318      2023-08-02    2022-08-02           NaT\n",
       "379      2023-03-08    2022-09-21           NaT\n",
       "537      2023-03-10    2022-10-21           NaT\n",
       "539      2023-03-13    2022-11-29           NaT\n",
       "578      2023-03-13    2022-11-29           NaT\n",
       "...             ...           ...           ...\n",
       "34021    2023-12-28           NaT    2023-12-27\n",
       "34025    2023-12-28           NaT    2023-12-27\n",
       "34030    2023-12-28           NaT    2023-12-27\n",
       "34031    2023-12-28           NaT    2023-12-27\n",
       "34032    2023-12-28           NaT    2023-12-27\n",
       "\n",
       "[661 rows x 3 columns]"
      ]
     },
     "metadata": {},
     "output_type": "display_data"
    }
   ],
   "source": [
    "# Leads convertidos e leads perdidos que possuem dias negativos\n",
    "anomalias = df[\n",
    "    ((df['data_de_ganho'].notna()) & (df['data_de_ganho'] < df['data_recebido'])) |\n",
    "    ((df['data_de_perda'].notna()) & (df['data_de_perda'] < df['data_recebido']))\n",
    "]\n",
    "\n",
    "# Mostrar resultados\n",
    "print(f\"Total de anomalias encontradas: {len(anomalias)}\")\n",
    "display(anomalias[['data_recebido', 'data_de_ganho', 'data_de_perda']])"
   ]
  },
  {
   "cell_type": "markdown",
   "id": "723a90ad",
   "metadata": {},
   "source": [
    "Essas anomalias detectadas provavelmente estão relacionadas a falhas de registro. Em alguns casos, acredito que o vendedor da loja pode ter registrado de maneira incorreta ou que o sistema de automação possua alguma falha. Como a quantidade de dados anômalos correspondem a 1.92% da amostra total, irei removê-los para que não distorçam a análise."
   ]
  },
  {
   "cell_type": "code",
   "execution_count": 19,
   "id": "136ab8cc",
   "metadata": {},
   "outputs": [],
   "source": [
    "# Exportando as anomalias para um Excel\n",
    "anomalias.to_excel(\"anomalias_removidas.xlsx\", index=False)"
   ]
  },
  {
   "cell_type": "code",
   "execution_count": 20,
   "id": "908a1902",
   "metadata": {},
   "outputs": [],
   "source": [
    "# Removendo as anomalias do DataFrame original \n",
    "df.drop(anomalias.index, inplace=True)"
   ]
  },
  {
   "cell_type": "code",
   "execution_count": 21,
   "id": "80bc3642",
   "metadata": {},
   "outputs": [
    {
     "data": {
      "text/html": [
       "<div>\n",
       "<style scoped>\n",
       "    .dataframe tbody tr th:only-of-type {\n",
       "        vertical-align: middle;\n",
       "    }\n",
       "\n",
       "    .dataframe tbody tr th {\n",
       "        vertical-align: top;\n",
       "    }\n",
       "\n",
       "    .dataframe thead th {\n",
       "        text-align: right;\n",
       "    }\n",
       "</style>\n",
       "<table border=\"1\" class=\"dataframe\">\n",
       "  <thead>\n",
       "    <tr style=\"text-align: right;\">\n",
       "      <th></th>\n",
       "      <th>codigo_do_usuario</th>\n",
       "      <th>criador</th>\n",
       "      <th>data_recebido</th>\n",
       "      <th>data_de_perda</th>\n",
       "      <th>data_de_ganho</th>\n",
       "      <th>tipo_de_venda</th>\n",
       "      <th>passagem</th>\n",
       "      <th>canal_de_aquisicao</th>\n",
       "      <th>docs_italiano</th>\n",
       "      <th>parente_italiano</th>\n",
       "    </tr>\n",
       "  </thead>\n",
       "  <tbody>\n",
       "    <tr>\n",
       "      <th>0</th>\n",
       "      <td>1</td>\n",
       "      <td>automacao</td>\n",
       "      <td>2023-01-03</td>\n",
       "      <td>2023-01-09</td>\n",
       "      <td>NaT</td>\n",
       "      <td>retorno</td>\n",
       "      <td>nao</td>\n",
       "      <td>redes sociais</td>\n",
       "      <td>nenhum e nao sei por onde comecar</td>\n",
       "      <td>nao informado</td>\n",
       "    </tr>\n",
       "    <tr>\n",
       "      <th>1</th>\n",
       "      <td>2</td>\n",
       "      <td>automacao</td>\n",
       "      <td>2023-01-17</td>\n",
       "      <td>2023-03-14</td>\n",
       "      <td>NaT</td>\n",
       "      <td>1venda - site</td>\n",
       "      <td>nao</td>\n",
       "      <td>indicacao</td>\n",
       "      <td>nenhum e nao sei por onde comecar</td>\n",
       "      <td>nao informado</td>\n",
       "    </tr>\n",
       "    <tr>\n",
       "      <th>2</th>\n",
       "      <td>3</td>\n",
       "      <td>vendedor loja</td>\n",
       "      <td>2023-11-11</td>\n",
       "      <td>2023-11-28</td>\n",
       "      <td>NaT</td>\n",
       "      <td>retorno</td>\n",
       "      <td>nao</td>\n",
       "      <td>remarketing</td>\n",
       "      <td>NaN</td>\n",
       "      <td>nao informado</td>\n",
       "    </tr>\n",
       "    <tr>\n",
       "      <th>3</th>\n",
       "      <td>4</td>\n",
       "      <td>automacao</td>\n",
       "      <td>2023-03-07</td>\n",
       "      <td>2023-03-09</td>\n",
       "      <td>NaT</td>\n",
       "      <td>1venda - site</td>\n",
       "      <td>nao</td>\n",
       "      <td>indicacao</td>\n",
       "      <td>nenhum e nao sei por onde comecar</td>\n",
       "      <td>nao informado</td>\n",
       "    </tr>\n",
       "  </tbody>\n",
       "</table>\n",
       "</div>"
      ],
      "text/plain": [
       "   codigo_do_usuario        criador data_recebido data_de_perda data_de_ganho  \\\n",
       "0                  1      automacao    2023-01-03    2023-01-09           NaT   \n",
       "1                  2      automacao    2023-01-17    2023-03-14           NaT   \n",
       "2                  3  vendedor loja    2023-11-11    2023-11-28           NaT   \n",
       "3                  4      automacao    2023-03-07    2023-03-09           NaT   \n",
       "\n",
       "   tipo_de_venda passagem canal_de_aquisicao  \\\n",
       "0        retorno      nao      redes sociais   \n",
       "1  1venda - site      nao          indicacao   \n",
       "2        retorno      nao        remarketing   \n",
       "3  1venda - site      nao          indicacao   \n",
       "\n",
       "                       docs_italiano parente_italiano  \n",
       "0  nenhum e nao sei por onde comecar    nao informado  \n",
       "1  nenhum e nao sei por onde comecar    nao informado  \n",
       "2                                NaN    nao informado  \n",
       "3  nenhum e nao sei por onde comecar    nao informado  "
      ]
     },
     "execution_count": 21,
     "metadata": {},
     "output_type": "execute_result"
    }
   ],
   "source": [
    "df.head(4)"
   ]
  },
  {
   "cell_type": "code",
   "execution_count": 22,
   "id": "72ccf7df",
   "metadata": {},
   "outputs": [],
   "source": [
    "df.to_csv(\"dados_limpos.csv\", index=False, encoding='utf-8-sig')"
   ]
  }
 ],
 "metadata": {
  "kernelspec": {
   "display_name": "Python 3",
   "language": "python",
   "name": "python3"
  },
  "language_info": {
   "codemirror_mode": {
    "name": "ipython",
    "version": 3
   },
   "file_extension": ".py",
   "mimetype": "text/x-python",
   "name": "python",
   "nbconvert_exporter": "python",
   "pygments_lexer": "ipython3",
   "version": "3.12.3"
  }
 },
 "nbformat": 4,
 "nbformat_minor": 5
}
